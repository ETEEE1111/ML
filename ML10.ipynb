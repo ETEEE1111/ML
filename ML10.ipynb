{
 "cells": [
  {
   "cell_type": "markdown",
   "metadata": {},
   "source": [
    "## Lab 10\n"
   ]
  },
  {
   "cell_type": "code",
   "execution_count": 1,
   "metadata": {},
   "outputs": [
    {
     "data": {
      "text/html": [
       "<div>\n",
       "<style scoped>\n",
       "    .dataframe tbody tr th:only-of-type {\n",
       "        vertical-align: middle;\n",
       "    }\n",
       "\n",
       "    .dataframe tbody tr th {\n",
       "        vertical-align: top;\n",
       "    }\n",
       "\n",
       "    .dataframe thead th {\n",
       "        text-align: right;\n",
       "    }\n",
       "</style>\n",
       "<table border=\"1\" class=\"dataframe\">\n",
       "  <thead>\n",
       "    <tr style=\"text-align: right;\">\n",
       "      <th></th>\n",
       "      <th>ID_CLIENT</th>\n",
       "      <th>ID_SHOP</th>\n",
       "      <th>SEX</th>\n",
       "      <th>AGE</th>\n",
       "      <th>QUANT_DEPENDANTS</th>\n",
       "      <th>AREA_CODE_RESIDENCIAL_PHONE</th>\n",
       "      <th>PAYMENT_DAY</th>\n",
       "      <th>MONTHS_IN_RESIDENCE</th>\n",
       "      <th>FLAG_RESIDENCE_TOWN=WORKING_TOWN</th>\n",
       "      <th>MONTHS_IN_THE_JOB</th>\n",
       "      <th>PROFESSION_CODE</th>\n",
       "      <th>MATE_INCOME</th>\n",
       "      <th>QUANT_BANKING_ACCOUNTS</th>\n",
       "      <th>PERSONAL_NET_INCOME</th>\n",
       "      <th>COD_APPLICATION_BOOTH</th>\n",
       "      <th>QUANT_ADDITIONAL_CARDS_IN_THE_APPLICATION</th>\n",
       "      <th>TARGET_LABEL_BAD=1</th>\n",
       "    </tr>\n",
       "  </thead>\n",
       "  <tbody>\n",
       "    <tr>\n",
       "      <th>0</th>\n",
       "      <td>2</td>\n",
       "      <td>15</td>\n",
       "      <td>0.0</td>\n",
       "      <td>18</td>\n",
       "      <td>0</td>\n",
       "      <td>31</td>\n",
       "      <td>20</td>\n",
       "      <td>216</td>\n",
       "      <td>0</td>\n",
       "      <td>12</td>\n",
       "      <td>853</td>\n",
       "      <td>0.0</td>\n",
       "      <td>0</td>\n",
       "      <td>300.0</td>\n",
       "      <td>0.0</td>\n",
       "      <td>0.0</td>\n",
       "      <td>0.0</td>\n",
       "    </tr>\n",
       "    <tr>\n",
       "      <th>1</th>\n",
       "      <td>4</td>\n",
       "      <td>12</td>\n",
       "      <td>0.0</td>\n",
       "      <td>47</td>\n",
       "      <td>0</td>\n",
       "      <td>31</td>\n",
       "      <td>25</td>\n",
       "      <td>180</td>\n",
       "      <td>1</td>\n",
       "      <td>24</td>\n",
       "      <td>35</td>\n",
       "      <td>0.0</td>\n",
       "      <td>0</td>\n",
       "      <td>304.0</td>\n",
       "      <td>0.0</td>\n",
       "      <td>0.0</td>\n",
       "      <td>0.0</td>\n",
       "    </tr>\n",
       "    <tr>\n",
       "      <th>2</th>\n",
       "      <td>5</td>\n",
       "      <td>16</td>\n",
       "      <td>0.0</td>\n",
       "      <td>28</td>\n",
       "      <td>0</td>\n",
       "      <td>31</td>\n",
       "      <td>25</td>\n",
       "      <td>12</td>\n",
       "      <td>0</td>\n",
       "      <td>12</td>\n",
       "      <td>24</td>\n",
       "      <td>0.0</td>\n",
       "      <td>0</td>\n",
       "      <td>250.0</td>\n",
       "      <td>0.0</td>\n",
       "      <td>0.0</td>\n",
       "      <td>0.0</td>\n",
       "    </tr>\n",
       "    <tr>\n",
       "      <th>3</th>\n",
       "      <td>6</td>\n",
       "      <td>24</td>\n",
       "      <td>1.0</td>\n",
       "      <td>26</td>\n",
       "      <td>0</td>\n",
       "      <td>31</td>\n",
       "      <td>28</td>\n",
       "      <td>180</td>\n",
       "      <td>1</td>\n",
       "      <td>0</td>\n",
       "      <td>999</td>\n",
       "      <td>0.0</td>\n",
       "      <td>0</td>\n",
       "      <td>800.0</td>\n",
       "      <td>0.0</td>\n",
       "      <td>0.0</td>\n",
       "      <td>0.0</td>\n",
       "    </tr>\n",
       "    <tr>\n",
       "      <th>4</th>\n",
       "      <td>7</td>\n",
       "      <td>55</td>\n",
       "      <td>0.0</td>\n",
       "      <td>22</td>\n",
       "      <td>0</td>\n",
       "      <td>31</td>\n",
       "      <td>12</td>\n",
       "      <td>0</td>\n",
       "      <td>0</td>\n",
       "      <td>48</td>\n",
       "      <td>999</td>\n",
       "      <td>0.0</td>\n",
       "      <td>0</td>\n",
       "      <td>410.0</td>\n",
       "      <td>0.0</td>\n",
       "      <td>0.0</td>\n",
       "      <td>0.0</td>\n",
       "    </tr>\n",
       "  </tbody>\n",
       "</table>\n",
       "</div>"
      ],
      "text/plain": [
       "   ID_CLIENT  ID_SHOP  SEX  AGE  QUANT_DEPENDANTS  \\\n",
       "0          2       15  0.0   18                 0   \n",
       "1          4       12  0.0   47                 0   \n",
       "2          5       16  0.0   28                 0   \n",
       "3          6       24  1.0   26                 0   \n",
       "4          7       55  0.0   22                 0   \n",
       "\n",
       "   AREA_CODE_RESIDENCIAL_PHONE  PAYMENT_DAY  MONTHS_IN_RESIDENCE  \\\n",
       "0                           31           20                  216   \n",
       "1                           31           25                  180   \n",
       "2                           31           25                   12   \n",
       "3                           31           28                  180   \n",
       "4                           31           12                    0   \n",
       "\n",
       "   FLAG_RESIDENCE_TOWN=WORKING_TOWN  MONTHS_IN_THE_JOB  PROFESSION_CODE  \\\n",
       "0                                 0                 12              853   \n",
       "1                                 1                 24               35   \n",
       "2                                 0                 12               24   \n",
       "3                                 1                  0              999   \n",
       "4                                 0                 48              999   \n",
       "\n",
       "   MATE_INCOME  QUANT_BANKING_ACCOUNTS  PERSONAL_NET_INCOME  \\\n",
       "0          0.0                       0                300.0   \n",
       "1          0.0                       0                304.0   \n",
       "2          0.0                       0                250.0   \n",
       "3          0.0                       0                800.0   \n",
       "4          0.0                       0                410.0   \n",
       "\n",
       "   COD_APPLICATION_BOOTH  QUANT_ADDITIONAL_CARDS_IN_THE_APPLICATION  \\\n",
       "0                    0.0                                        0.0   \n",
       "1                    0.0                                        0.0   \n",
       "2                    0.0                                        0.0   \n",
       "3                    0.0                                        0.0   \n",
       "4                    0.0                                        0.0   \n",
       "\n",
       "   TARGET_LABEL_BAD=1  \n",
       "0                 0.0  \n",
       "1                 0.0  \n",
       "2                 0.0  \n",
       "3                 0.0  \n",
       "4                 0.0  "
      ]
     },
     "execution_count": 1,
     "metadata": {},
     "output_type": "execute_result"
    }
   ],
   "source": [
    "import seaborn as sns\n",
    "import sklearn.feature_selection as VarianceThreshold\n",
    "import pandas as pd\n",
    "import numpy as np\n",
    "import pandas as pd\n",
    "from sklearn.model_selection import train_test_split, cross_val_score\n",
    "from sklearn.impute import SimpleImputer\n",
    "from sklearn.preprocessing import LabelEncoder, OneHotEncoder\n",
    "from sklearn.neighbors import KNeighborsClassifier\n",
    "from sklearn.svm import SVC\n",
    "from sklearn.naive_bayes import GaussianNB\n",
    "from sklearn.tree import DecisionTreeClassifier\n",
    "from sklearn.metrics import accuracy_score, classification_report\n",
    "from sklearn.ensemble import VotingClassifier\n",
    "\n",
    "df = pd.read_csv('DataSets//DataSet11_2.csv', sep =';', encoding = \"cp1252\")\n",
    "df['SEX'] = df['SEX'].replace('M',1)\n",
    "df['SEX'] = df['SEX'].replace('F',0)\n",
    "df['FLAG_RESIDENCE_TOWN=WORKING_TOWN'] = df['FLAG_RESIDENCE_TOWN=WORKING_TOWN'].replace('Y',0)\n",
    "df['FLAG_RESIDENCE_TOWN=WORKING_TOWN'] = df['FLAG_RESIDENCE_TOWN=WORKING_TOWN'].replace('N',1)\n",
    "df = df.drop(['RESIDENCE_TYPE','FLAG_RESIDENCE_STATE=WORKING_STATE','SHOP_RANK','FLAG_FATHERS_NAME','FLAG_MOTHERS_NAME','EDUCATION','MARITAL_STATUS','FLAG_RESIDENCIAL_PHONE','PERSONAL_REFERENCE_#1','PERSONAL_REFERENCE_#2','FLAG_MOBILE_PHONE','FLAG_CONTACT_PHONE','FLAG_CARD_INSURANCE_OPTION','FLAG_RESIDENCIAL_ADDRESS=POSTAL_ADDRESS','FLAG_OTHER_CARD'],axis = 1)\n",
    "df = df.dropna()\n",
    "df.head()"
   ]
  },
  {
   "cell_type": "code",
   "execution_count": 2,
   "metadata": {},
   "outputs": [
    {
     "name": "stdout",
     "output_type": "stream",
     "text": [
      "<class 'pandas.core.frame.DataFrame'>\n",
      "Index: 39995 entries, 0 to 39999\n",
      "Data columns (total 17 columns):\n",
      " #   Column                                     Non-Null Count  Dtype  \n",
      "---  ------                                     --------------  -----  \n",
      " 0   ID_CLIENT                                  39995 non-null  int64  \n",
      " 1   ID_SHOP                                    39995 non-null  int64  \n",
      " 2   SEX                                        39995 non-null  float64\n",
      " 3   AGE                                        39995 non-null  int64  \n",
      " 4   QUANT_DEPENDANTS                           39995 non-null  int64  \n",
      " 5   AREA_CODE_RESIDENCIAL_PHONE                39995 non-null  int64  \n",
      " 6   PAYMENT_DAY                                39995 non-null  int64  \n",
      " 7   MONTHS_IN_RESIDENCE                        39995 non-null  int64  \n",
      " 8   FLAG_RESIDENCE_TOWN=WORKING_TOWN           39995 non-null  int64  \n",
      " 9   MONTHS_IN_THE_JOB                          39995 non-null  int64  \n",
      " 10  PROFESSION_CODE                            39995 non-null  int64  \n",
      " 11  MATE_INCOME                                39995 non-null  float64\n",
      " 12  QUANT_BANKING_ACCOUNTS                     39995 non-null  int64  \n",
      " 13  PERSONAL_NET_INCOME                        39995 non-null  float64\n",
      " 14  COD_APPLICATION_BOOTH                      39995 non-null  float64\n",
      " 15  QUANT_ADDITIONAL_CARDS_IN_THE_APPLICATION  39995 non-null  float64\n",
      " 16  TARGET_LABEL_BAD=1                         39995 non-null  float64\n",
      "dtypes: float64(6), int64(11)\n",
      "memory usage: 5.5 MB\n"
     ]
    }
   ],
   "source": [
    "df.info()"
   ]
  },
  {
   "cell_type": "code",
   "execution_count": 3,
   "metadata": {},
   "outputs": [],
   "source": [
    "X_train, X_test, y_train, y_test = train_test_split(df.drop(df.columns[16], axis = 1), df['TARGET_LABEL_BAD=1'].values, test_size=0.2, random_state=42)"
   ]
  },
  {
   "cell_type": "markdown",
   "metadata": {},
   "source": [
    "## KNN"
   ]
  },
  {
   "cell_type": "code",
   "execution_count": 4,
   "metadata": {},
   "outputs": [
    {
     "data": {
      "text/plain": [
       "0.7657207150893862"
      ]
     },
     "execution_count": 4,
     "metadata": {},
     "output_type": "execute_result"
    }
   ],
   "source": [
    "knn = KNeighborsClassifier(n_neighbors=5)\n",
    "knn.fit(X_train, y_train)\n",
    "knn_pred = knn.predict(X_test)\n",
    "accuracy_score(y_test, knn_pred)"
   ]
  },
  {
   "cell_type": "code",
   "execution_count": 5,
   "metadata": {},
   "outputs": [
    {
     "name": "stdout",
     "output_type": "stream",
     "text": [
      "              precision    recall  f1-score   support\n",
      "\n",
      "         0.0       0.80      0.94      0.87      6400\n",
      "         1.0       0.23      0.08      0.11      1599\n",
      "\n",
      "    accuracy                           0.77      7999\n",
      "   macro avg       0.52      0.51      0.49      7999\n",
      "weighted avg       0.69      0.77      0.71      7999\n",
      "\n"
     ]
    }
   ],
   "source": [
    "print(classification_report(y_test, knn_pred))"
   ]
  },
  {
   "cell_type": "markdown",
   "metadata": {},
   "source": [
    "# SVM"
   ]
  },
  {
   "cell_type": "code",
   "execution_count": 6,
   "metadata": {},
   "outputs": [
    {
     "data": {
      "text/plain": [
       "0.8001000125015627"
      ]
     },
     "execution_count": 6,
     "metadata": {},
     "output_type": "execute_result"
    }
   ],
   "source": [
    "svm = SVC(kernel='rbf')\n",
    "svm.fit(X_train, y_train)\n",
    "svm_pred = svm.predict(X_test)\n",
    "accuracy_score(y_test, svm_pred)"
   ]
  },
  {
   "cell_type": "code",
   "execution_count": 7,
   "metadata": {},
   "outputs": [
    {
     "name": "stdout",
     "output_type": "stream",
     "text": [
      "              precision    recall  f1-score   support\n",
      "\n",
      "         0.0       0.80      1.00      0.89      6400\n",
      "         1.0       0.00      0.00      0.00      1599\n",
      "\n",
      "    accuracy                           0.80      7999\n",
      "   macro avg       0.40      0.50      0.44      7999\n",
      "weighted avg       0.64      0.80      0.71      7999\n",
      "\n"
     ]
    },
    {
     "name": "stderr",
     "output_type": "stream",
     "text": [
      "c:\\Users\\UAZS8\\Desktop\\PYTHON\\ML\\.venv\\Lib\\site-packages\\sklearn\\metrics\\_classification.py:1469: UndefinedMetricWarning: Precision and F-score are ill-defined and being set to 0.0 in labels with no predicted samples. Use `zero_division` parameter to control this behavior.\n",
      "  _warn_prf(average, modifier, msg_start, len(result))\n",
      "c:\\Users\\UAZS8\\Desktop\\PYTHON\\ML\\.venv\\Lib\\site-packages\\sklearn\\metrics\\_classification.py:1469: UndefinedMetricWarning: Precision and F-score are ill-defined and being set to 0.0 in labels with no predicted samples. Use `zero_division` parameter to control this behavior.\n",
      "  _warn_prf(average, modifier, msg_start, len(result))\n",
      "c:\\Users\\UAZS8\\Desktop\\PYTHON\\ML\\.venv\\Lib\\site-packages\\sklearn\\metrics\\_classification.py:1469: UndefinedMetricWarning: Precision and F-score are ill-defined and being set to 0.0 in labels with no predicted samples. Use `zero_division` parameter to control this behavior.\n",
      "  _warn_prf(average, modifier, msg_start, len(result))\n"
     ]
    }
   ],
   "source": [
    "print(classification_report(y_test, svm_pred))"
   ]
  },
  {
   "cell_type": "markdown",
   "metadata": {},
   "source": [
    "# Naive Bayess"
   ]
  },
  {
   "cell_type": "code",
   "execution_count": 8,
   "metadata": {},
   "outputs": [
    {
     "data": {
      "text/plain": [
       "0.5088136017002125"
      ]
     },
     "execution_count": 8,
     "metadata": {},
     "output_type": "execute_result"
    }
   ],
   "source": [
    "nb = GaussianNB()\n",
    "nb.fit(X_train, y_train)\n",
    "nb_pred = nb.predict(X_test)\n",
    "accuracy_score(y_test, nb_pred)"
   ]
  },
  {
   "cell_type": "code",
   "execution_count": 9,
   "metadata": {},
   "outputs": [
    {
     "name": "stdout",
     "output_type": "stream",
     "text": [
      "              precision    recall  f1-score   support\n",
      "\n",
      "         0.0       0.87      0.46      0.60      6400\n",
      "         1.0       0.25      0.71      0.37      1599\n",
      "\n",
      "    accuracy                           0.51      7999\n",
      "   macro avg       0.56      0.59      0.48      7999\n",
      "weighted avg       0.74      0.51      0.55      7999\n",
      "\n"
     ]
    }
   ],
   "source": [
    "print(classification_report(y_test, nb_pred))"
   ]
  },
  {
   "cell_type": "markdown",
   "metadata": {},
   "source": [
    "# C4.5 / C5.0"
   ]
  },
  {
   "cell_type": "code",
   "execution_count": 10,
   "metadata": {},
   "outputs": [
    {
     "data": {
      "text/plain": [
       "0.690836354544318"
      ]
     },
     "execution_count": 10,
     "metadata": {},
     "output_type": "execute_result"
    }
   ],
   "source": [
    "dt = DecisionTreeClassifier()\n",
    "dt.fit(X_train, y_train)\n",
    "dt_pred = dt.predict(X_test)\n",
    "accuracy_score(y_test, dt_pred)"
   ]
  },
  {
   "cell_type": "code",
   "execution_count": 11,
   "metadata": {},
   "outputs": [
    {
     "name": "stdout",
     "output_type": "stream",
     "text": [
      "              precision    recall  f1-score   support\n",
      "\n",
      "         0.0       0.81      0.80      0.81      6400\n",
      "         1.0       0.24      0.26      0.25      1599\n",
      "\n",
      "    accuracy                           0.69      7999\n",
      "   macro avg       0.53      0.53      0.53      7999\n",
      "weighted avg       0.70      0.69      0.69      7999\n",
      "\n"
     ]
    }
   ],
   "source": [
    "print(classification_report(y_test, dt_pred))"
   ]
  },
  {
   "cell_type": "markdown",
   "metadata": {},
   "source": [
    "# Кроссвалидация"
   ]
  },
  {
   "cell_type": "code",
   "execution_count": 12,
   "metadata": {},
   "outputs": [
    {
     "name": "stdout",
     "output_type": "stream",
     "text": [
      "Cross-validation Scores: [0.8        0.8        0.8        0.8        0.80050031]\n",
      "Mean Cross-validation Score: 0.8001000625390869\n"
     ]
    }
   ],
   "source": [
    "cv_scores = cross_val_score(svm, X_test, y_test, cv=5)\n",
    "print(\"Cross-validation Scores:\", cv_scores)\n",
    "print(\"Mean Cross-validation Score:\", cv_scores.mean())"
   ]
  },
  {
   "cell_type": "code",
   "execution_count": 13,
   "metadata": {},
   "outputs": [
    {
     "name": "stdout",
     "output_type": "stream",
     "text": [
      "Cross-validation Scores: [0.7675     0.755      0.765625   0.759375   0.76672921]\n",
      "Mean Cross-validation Score: 0.7628458411507192\n"
     ]
    }
   ],
   "source": [
    "cv_scores = cross_val_score(knn, X_test, y_test, cv=5)\n",
    "print(\"Cross-validation Scores:\", cv_scores)\n",
    "print(\"Mean Cross-validation Score:\", cv_scores.mean())"
   ]
  },
  {
   "cell_type": "code",
   "execution_count": 14,
   "metadata": {},
   "outputs": [
    {
     "name": "stdout",
     "output_type": "stream",
     "text": [
      "Cross-validation Scores: [0.244375 0.250625 0.54375  0.251875 0.246404]\n",
      "Mean Cross-validation Score: 0.3074058005003127\n"
     ]
    }
   ],
   "source": [
    "cv_scores = cross_val_score(nb, X_test, y_test, cv=5)\n",
    "print(\"Cross-validation Scores:\", cv_scores)\n",
    "print(\"Mean Cross-validation Score:\", cv_scores.mean())"
   ]
  },
  {
   "cell_type": "code",
   "execution_count": 15,
   "metadata": {},
   "outputs": [
    {
     "name": "stdout",
     "output_type": "stream",
     "text": [
      "Cross-validation Scores: [0.68875   0.69375   0.656875  0.674375  0.6916823]\n",
      "Mean Cross-validation Score: 0.6810864602876798\n"
     ]
    }
   ],
   "source": [
    "cv_scores = cross_val_score(dt, X_test, y_test, cv=5)\n",
    "print(\"Cross-validation Scores:\", cv_scores)\n",
    "print(\"Mean Cross-validation Score:\", cv_scores.mean())"
   ]
  },
  {
   "cell_type": "code",
   "execution_count": 18,
   "metadata": {},
   "outputs": [
    {
     "name": "stdout",
     "output_type": "stream",
     "text": [
      "[0. 0. 1. ... 0. 0. 1.]\n",
      "Voting Classifier Accuracy: 0.7940992624078009\n",
      "Voting Classifier Classification Report:\n",
      "               precision    recall  f1-score   support\n",
      "\n",
      "         0.0       0.80      0.99      0.88      6400\n",
      "         1.0       0.29      0.02      0.04      1599\n",
      "\n",
      "    accuracy                           0.79      7999\n",
      "   macro avg       0.55      0.50      0.46      7999\n",
      "weighted avg       0.70      0.79      0.72      7999\n",
      "\n"
     ]
    }
   ],
   "source": [
    "voting_clf = VotingClassifier(estimators=[\n",
    "('knn', knn),\n",
    "('svm', svm),\n",
    "('nb', nb),\n",
    "('dt', dt)\n",
    "], voting='hard')\n",
    "voting_clf.fit(X_train, y_train)\n",
    "\n",
    "voting_pred = voting_clf.predict(X_test)\n",
    "print(\"Voting Classifier Accuracy:\", accuracy_score(y_test, voting_pred))\n",
    "print(\"Voting Classifier Classification Report:\\n\", classification_report(y_test, voting_pred))"
   ]
  },
  {
   "cell_type": "code",
   "execution_count": 17,
   "metadata": {},
   "outputs": [
    {
     "name": "stdout",
     "output_type": "stream",
     "text": [
      "Cross-validation Scores: [0.793125   0.791875   0.79625    0.7825     0.78549093]\n",
      "Mean Cross-validation Score: 0.7898481863664791\n"
     ]
    }
   ],
   "source": [
    "cv_scores = cross_val_score(voting_clf, X_test, y_test, cv=5)\n",
    "print(\"Cross-validation Scores:\", cv_scores)\n",
    "print(\"Mean Cross-validation Score:\", cv_scores.mean())"
   ]
  }
 ],
 "metadata": {
  "kernelspec": {
   "display_name": ".venv",
   "language": "python",
   "name": "python3"
  },
  "language_info": {
   "codemirror_mode": {
    "name": "ipython",
    "version": 3
   },
   "file_extension": ".py",
   "mimetype": "text/x-python",
   "name": "python",
   "nbconvert_exporter": "python",
   "pygments_lexer": "ipython3",
   "version": "3.11.6"
  }
 },
 "nbformat": 4,
 "nbformat_minor": 2
}
