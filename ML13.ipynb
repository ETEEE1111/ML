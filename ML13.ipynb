{
 "cells": [
  {
   "cell_type": "markdown",
   "metadata": {},
   "source": [
    "## Lab 13"
   ]
  },
  {
   "cell_type": "code",
   "execution_count": 84,
   "metadata": {},
   "outputs": [],
   "source": [
    "import pandas as pd\n",
    "import numpy as np\n",
    "import spacy\n",
    "import ru_core_news_lg\n",
    "nlp = ru_core_news_lg.load()"
   ]
  },
  {
   "cell_type": "code",
   "execution_count": 85,
   "metadata": {},
   "outputs": [
    {
     "name": "stdout",
     "output_type": "stream",
     "text": [
      "{'Akunin': 1, 'Bulychev': 0, 'Chehov': 0, 'Dostoevsky': 0, 'Gogol': 0, 'King': 0, 'Pratchett': 0, 'Remark': 0}\n"
     ]
    }
   ],
   "source": [
    "df = pd.read_csv('DataSets\\DataSet13_1.csv')\n",
    "unq = np.unique(df['author'])\n",
    "unq_dct = {} \n",
    "for i in range(len(unq)):\n",
    "    unq_dct[unq[i]] = 0\n",
    "unq_dct['Akunin'] = 1\n",
    "classes = df['author'].map(unq_dct)"
   ]
  },
  {
   "cell_type": "code",
   "execution_count": 86,
   "metadata": {},
   "outputs": [
    {
     "data": {
      "text/html": [
       "<div>\n",
       "<style scoped>\n",
       "    .dataframe tbody tr th:only-of-type {\n",
       "        vertical-align: middle;\n",
       "    }\n",
       "\n",
       "    .dataframe tbody tr th {\n",
       "        vertical-align: top;\n",
       "    }\n",
       "\n",
       "    .dataframe thead th {\n",
       "        text-align: right;\n",
       "    }\n",
       "</style>\n",
       "<table border=\"1\" class=\"dataframe\">\n",
       "  <thead>\n",
       "    <tr style=\"text-align: right;\">\n",
       "      <th></th>\n",
       "      <th>id</th>\n",
       "      <th>text</th>\n",
       "    </tr>\n",
       "  </thead>\n",
       "  <tbody>\n",
       "    <tr>\n",
       "      <th>0</th>\n",
       "      <td>0</td>\n",
       "      <td>-Бабушка!- вскричала малютка.- Возьми меня с с...</td>\n",
       "    </tr>\n",
       "    <tr>\n",
       "      <th>1</th>\n",
       "      <td>1</td>\n",
       "      <td>Знал ли Скрудж об этом? Разумеется, знал. Да и...</td>\n",
       "    </tr>\n",
       "    <tr>\n",
       "      <th>2</th>\n",
       "      <td>2</td>\n",
       "      <td>-С праздником, дядя, с радостью! Дай вам Бог в...</td>\n",
       "    </tr>\n",
       "    <tr>\n",
       "      <th>3</th>\n",
       "      <td>3</td>\n",
       "      <td>Мы высказали только главную передовую мысль на...</td>\n",
       "    </tr>\n",
       "    <tr>\n",
       "      <th>4</th>\n",
       "      <td>4</td>\n",
       "      <td>I. Отдел литературный. Повести, романы, расска...</td>\n",
       "    </tr>\n",
       "  </tbody>\n",
       "</table>\n",
       "</div>"
      ],
      "text/plain": [
       "   id                                               text\n",
       "0   0  -Бабушка!- вскричала малютка.- Возьми меня с с...\n",
       "1   1  Знал ли Скрудж об этом? Разумеется, знал. Да и...\n",
       "2   2  -С праздником, дядя, с радостью! Дай вам Бог в...\n",
       "3   3  Мы высказали только главную передовую мысль на...\n",
       "4   4  I. Отдел литературный. Повести, романы, расска..."
      ]
     },
     "execution_count": 86,
     "metadata": {},
     "output_type": "execute_result"
    }
   ],
   "source": [
    "df.drop(['author'], axis=1, inplace=True)\n",
    "df.head()"
   ]
  },
  {
   "cell_type": "code",
   "execution_count": 87,
   "metadata": {},
   "outputs": [],
   "source": [
    "#Получаем лист из частей речи в тексте\n",
    "df['new_col'] = df['text'].apply(lambda x: nlp(x))\n",
    "df['new_col'] = df['new_col'].apply(lambda x: [token.tag_ for token in x])\n",
    "\n",
    "tags = ['ADJ', 'ADP', 'ADV', 'AUX' , 'CCONJ', 'DET', 'ENTITY', 'NOUN', 'PART', 'PRON', 'PUNCT', 'SCONJ', 'VERB']\n",
    "\n",
    "for i in tags:\n",
    "    df[i] = df['new_col'].apply(lambda x: x.count(i))\n",
    "\n",
    "df['sum'] = df.iloc[:, -13 :- 1].sum(axis=1)\n",
    "for i in tags:\n",
    "    df[i] = df[i]/df['sum']\n",
    "\n",
    "for column in tags:\n",
    "    df[column] = (df[column] - df[column].mean()) / (df[column].abs() .max())\n",
    "\n",
    "df.drop(['sum', 'text', 'id', 'ENTITY', 'new_col'], axis = 1,inplace=True)\n",
    "df = pd.concat([df, classes], axis=1)\n"
   ]
  },
  {
   "cell_type": "code",
   "execution_count": 88,
   "metadata": {},
   "outputs": [],
   "source": [
    "from sklearn.model_selection import train_test_split\n",
    "from sklearn import svm\n",
    "from sklearn.ensemble import RandomForestClassifier\n",
    "from sklearn.naive_bayes import GaussianNB\n",
    "from sklearn.metrics import precision_score\n",
    "from sklearn.metrics import recall_score\n",
    "from sklearn.metrics import f1_score\n",
    "from sklearn.metrics import roc_auc_score\n",
    "\n",
    "x_train, x_test, y_train, y_test = train_test_split(df.drop(['author'], axis = 1), df['author'], test_size=0.2, random_state=42)"
   ]
  },
  {
   "cell_type": "code",
   "execution_count": 89,
   "metadata": {},
   "outputs": [
    {
     "name": "stdout",
     "output_type": "stream",
     "text": [
      "precision =0.7970437854420377\n",
      "recall = 0.7982708933717579\n",
      "F1=0.7802913256118896\n",
      "ROC.AUC .= 0.7041611211148516\n"
     ]
    }
   ],
   "source": [
    "classifier = svm.SVC() \n",
    "classifier.fit(x_train, y_train) \n",
    "y_pred = classifier.predict(x_test)\n",
    "\n",
    "pres = precision_score(y_test, y_pred, average='weighted')\n",
    "recall = recall_score(y_test, y_pred, average='weighted')\n",
    "f1 = f1_score(y_test, y_pred, average='weighted') \n",
    "roc_auc = roc_auc_score(y_test, y_pred)\n",
    "\n",
    "print('precision = {0}'.format(pres))\n",
    "print('recall = {0}'.format(recall))\n",
    "print('F1 = {0}'.format(f1))\n",
    "print('ROC.AUC . = {0}'.format(roc_auc))"
   ]
  },
  {
   "cell_type": "code",
   "execution_count": 90,
   "metadata": {},
   "outputs": [
    {
     "name": "stdout",
     "output_type": "stream",
     "text": [
      "precision =0.7854104177694132\n",
      "recall = 0.7838616714697406\n",
      "F1=0.758544533922271\n",
      "ROC.AUC .= 0.6752916307836844\n"
     ]
    }
   ],
   "source": [
    "classifier = RandomForestClassifier()\n",
    "classifier.fit(x_train, y_train) \n",
    "y_pred = classifier.predict(x_test)\n",
    "\n",
    "pres = precision_score(y_test, y_pred, average='weighted')\n",
    "recall = recall_score(y_test, y_pred, average='weighted')\n",
    "f1 = f1_score(y_test, y_pred, average='weighted') \n",
    "roc_auc = roc_auc_score(y_test, y_pred)\n",
    "\n",
    "print('precision = {0}'.format(pres))\n",
    "print('recall = {0}'.format(recall))\n",
    "print('F1 = {0}'.format(f1))\n",
    "print('ROC.AUC . = {0}'.format(roc_auc))"
   ]
  },
  {
   "cell_type": "code",
   "execution_count": 91,
   "metadata": {},
   "outputs": [
    {
     "name": "stdout",
     "output_type": "stream",
     "text": [
      "precision =0.7712358101152063\n",
      "recall = 0.7665706051873199\n",
      "F1=0.768581205886692\n",
      "ROC.AUC .= 0.7341853910592656\n"
     ]
    }
   ],
   "source": [
    "classifier = GaussianNB()\n",
    "classifier.fit(x_train, y_train) \n",
    "y_pred = classifier.predict(x_test)\n",
    "\n",
    "pres = precision_score(y_test, y_pred, average='weighted')\n",
    "recall = recall_score(y_test, y_pred, average='weighted')\n",
    "f1 = f1_score(y_test, y_pred, average='weighted') \n",
    "roc_auc = roc_auc_score(y_test, y_pred)\n",
    "\n",
    "print('precision = {0}'.format(pres))\n",
    "print('recall = {0}'.format(recall))\n",
    "print('F1 = {0}'.format(f1))\n",
    "print('ROC.AUC . = {0}'.format(roc_auc))"
   ]
  }
 ],
 "metadata": {
  "kernelspec": {
   "display_name": ".venv",
   "language": "python",
   "name": "python3"
  },
  "language_info": {
   "codemirror_mode": {
    "name": "ipython",
    "version": 3
   },
   "file_extension": ".py",
   "mimetype": "text/x-python",
   "name": "python",
   "nbconvert_exporter": "python",
   "pygments_lexer": "ipython3",
   "version": "3.11.6"
  }
 },
 "nbformat": 4,
 "nbformat_minor": 2
}
