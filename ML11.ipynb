{
 "cells": [
  {
   "cell_type": "markdown",
   "metadata": {},
   "source": [
    "## Lab 11\n"
   ]
  },
  {
   "cell_type": "code",
   "execution_count": 60,
   "metadata": {},
   "outputs": [],
   "source": [
    "import string \n",
    "import pandas as pd\n",
    "\n",
    "from sklearn.feature_extraction.text import CountVectorizer\n",
    "from sklearn.linear_model import LogisticRegression\n",
    "from sklearn.ensemble import RandomForestClassifier\n",
    "\n",
    "from sklearn.metrics import accuracy_score, classification_report"
   ]
  },
  {
   "cell_type": "code",
   "execution_count": 61,
   "metadata": {},
   "outputs": [
    {
     "data": {
      "text/html": [
       "<div>\n",
       "<style scoped>\n",
       "    .dataframe tbody tr th:only-of-type {\n",
       "        vertical-align: middle;\n",
       "    }\n",
       "\n",
       "    .dataframe tbody tr th {\n",
       "        vertical-align: top;\n",
       "    }\n",
       "\n",
       "    .dataframe thead th {\n",
       "        text-align: right;\n",
       "    }\n",
       "</style>\n",
       "<table border=\"1\" class=\"dataframe\">\n",
       "  <thead>\n",
       "    <tr style=\"text-align: right;\">\n",
       "      <th></th>\n",
       "      <th>id</th>\n",
       "      <th>text</th>\n",
       "      <th>author</th>\n",
       "    </tr>\n",
       "  </thead>\n",
       "  <tbody>\n",
       "    <tr>\n",
       "      <th>0</th>\n",
       "      <td>0</td>\n",
       "      <td>-Бабушка!- вскричала малютка.- Возьми меня с с...</td>\n",
       "      <td>Dostoevsky</td>\n",
       "    </tr>\n",
       "    <tr>\n",
       "      <th>1</th>\n",
       "      <td>1</td>\n",
       "      <td>Знал ли Скрудж об этом? Разумеется, знал. Да и...</td>\n",
       "      <td>Dostoevsky</td>\n",
       "    </tr>\n",
       "    <tr>\n",
       "      <th>2</th>\n",
       "      <td>2</td>\n",
       "      <td>-С праздником, дядя, с радостью! Дай вам Бог в...</td>\n",
       "      <td>Dostoevsky</td>\n",
       "    </tr>\n",
       "    <tr>\n",
       "      <th>3</th>\n",
       "      <td>3</td>\n",
       "      <td>Мы высказали только главную передовую мысль на...</td>\n",
       "      <td>Dostoevsky</td>\n",
       "    </tr>\n",
       "    <tr>\n",
       "      <th>4</th>\n",
       "      <td>4</td>\n",
       "      <td>I. Отдел литературный. Повести, романы, расска...</td>\n",
       "      <td>Dostoevsky</td>\n",
       "    </tr>\n",
       "  </tbody>\n",
       "</table>\n",
       "</div>"
      ],
      "text/plain": [
       "   id                                               text      author\n",
       "0   0  -Бабушка!- вскричала малютка.- Возьми меня с с...  Dostoevsky\n",
       "1   1  Знал ли Скрудж об этом? Разумеется, знал. Да и...  Dostoevsky\n",
       "2   2  -С праздником, дядя, с радостью! Дай вам Бог в...  Dostoevsky\n",
       "3   3  Мы высказали только главную передовую мысль на...  Dostoevsky\n",
       "4   4  I. Отдел литературный. Повести, романы, расска...  Dostoevsky"
      ]
     },
     "execution_count": 61,
     "metadata": {},
     "output_type": "execute_result"
    }
   ],
   "source": [
    "df = pd.read_csv('DataSets\\DataSet13_1.csv')\n",
    "df.head()"
   ]
  },
  {
   "cell_type": "code",
   "execution_count": 62,
   "metadata": {},
   "outputs": [],
   "source": [
    "from sklearn.model_selection import train_test_split\n",
    "x_train, x_test, y_train, y_test = train_test_split(df.drop(['id', 'author'], axis=1), df.author,test_size=0.2, random_state= 42)"
   ]
  },
  {
   "cell_type": "code",
   "execution_count": 63,
   "metadata": {},
   "outputs": [],
   "source": [
    "vectorizer = CountVectorizer()\n",
    "vectorizer.fit(pd.concat([x_test.text,x_train.text], ignore_index= True))\n",
    "X_test = vectorizer.transform(x_test.text)\n",
    "X_train = vectorizer.transform(x_train.text)\n",
    "Y_train = y_train.values\n",
    "Y_test = y_test.values"
   ]
  },
  {
   "cell_type": "markdown",
   "metadata": {},
   "source": [
    "## Log reg"
   ]
  },
  {
   "cell_type": "code",
   "execution_count": 64,
   "metadata": {},
   "outputs": [
    {
     "name": "stdout",
     "output_type": "stream",
     "text": [
      "Acc score: 0.792507204610951\n",
      "Report:\n",
      "               precision    recall  f1-score   support\n",
      "\n",
      "      Akunin       0.76      0.94      0.84       106\n",
      "    Bulychev       0.88      0.77      0.82        56\n",
      "      Chehov       0.71      0.69      0.70        29\n",
      "  Dostoevsky       0.60      0.21      0.32        14\n",
      "       Gogol       0.53      0.41      0.46        22\n",
      "        King       0.86      0.85      0.86        60\n",
      "   Pratchett       0.83      0.88      0.85        49\n",
      "      Remark       1.00      0.55      0.71        11\n",
      "\n",
      "    accuracy                           0.79       347\n",
      "   macro avg       0.77      0.66      0.69       347\n",
      "weighted avg       0.79      0.79      0.78       347\n",
      "\n"
     ]
    },
    {
     "name": "stderr",
     "output_type": "stream",
     "text": [
      "c:\\Users\\UAZS8\\Desktop\\PYTHON\\ML\\.venv\\Lib\\site-packages\\sklearn\\linear_model\\_logistic.py:460: ConvergenceWarning: lbfgs failed to converge (status=1):\n",
      "STOP: TOTAL NO. of ITERATIONS REACHED LIMIT.\n",
      "\n",
      "Increase the number of iterations (max_iter) or scale the data as shown in:\n",
      "    https://scikit-learn.org/stable/modules/preprocessing.html\n",
      "Please also refer to the documentation for alternative solver options:\n",
      "    https://scikit-learn.org/stable/modules/linear_model.html#logistic-regression\n",
      "  n_iter_i = _check_optimize_result(\n"
     ]
    }
   ],
   "source": [
    "log_reg = LogisticRegression()\n",
    "log_reg.fit(X_train, Y_train)\n",
    "pred = log_reg.predict(X_test)\n",
    "print(f'Acc score: {accuracy_score(Y_test,pred)}')\n",
    "print('Report:\\n',classification_report(Y_test, pred))"
   ]
  },
  {
   "cell_type": "markdown",
   "metadata": {},
   "source": [
    "## Rand forest"
   ]
  },
  {
   "cell_type": "code",
   "execution_count": 65,
   "metadata": {},
   "outputs": [
    {
     "name": "stdout",
     "output_type": "stream",
     "text": [
      "Acc score: 0.6080691642651297\n",
      "Report:\n",
      "               precision    recall  f1-score   support\n",
      "\n",
      "      Akunin       0.52      1.00      0.68       106\n",
      "    Bulychev       0.82      0.66      0.73        56\n",
      "      Chehov       0.60      0.21      0.31        29\n",
      "  Dostoevsky       0.33      0.07      0.12        14\n",
      "       Gogol       0.30      0.14      0.19        22\n",
      "        King       0.78      0.63      0.70        60\n",
      "   Pratchett       0.76      0.39      0.51        49\n",
      "      Remark       1.00      0.09      0.17        11\n",
      "\n",
      "    accuracy                           0.61       347\n",
      "   macro avg       0.64      0.40      0.43       347\n",
      "weighted avg       0.65      0.61      0.57       347\n",
      "\n"
     ]
    }
   ],
   "source": [
    "rnd_forest = RandomForestClassifier()##n_estimators= 100, criterion= 'log_loss', min_samples_split= 1000)\n",
    "rnd_forest.fit(X_train, Y_train)\n",
    "pred = rnd_forest.predict(X_test)\n",
    "print(f'Acc score: {accuracy_score(Y_test,pred)}')\n",
    "print('Report:\\n',classification_report(Y_test, pred))"
   ]
  },
  {
   "cell_type": "markdown",
   "metadata": {},
   "source": [
    "## Обработка"
   ]
  },
  {
   "cell_type": "code",
   "execution_count": 77,
   "metadata": {},
   "outputs": [],
   "source": [
    "from nltk.stem import WordNetLemmatizer"
   ]
  },
  {
   "cell_type": "code",
   "execution_count": 78,
   "metadata": {},
   "outputs": [],
   "source": [
    "lemm = WordNetLemmatizer()\n",
    "def lemmatize_words(text):\n",
    "    return ' '.join([lemm.lemmatize(word) for word in text.split()])"
   ]
  },
  {
   "cell_type": "code",
   "execution_count": 86,
   "metadata": {},
   "outputs": [
    {
     "name": "stderr",
     "output_type": "stream",
     "text": [
      "[nltk_data] Downloading package stopwords to\n",
      "[nltk_data]     C:\\Users\\UAZS8\\AppData\\Roaming\\nltk_data...\n",
      "[nltk_data]   Package stopwords is already up-to-date!\n",
      "[nltk_data] Downloading package wordnet to\n",
      "[nltk_data]     C:\\Users\\UAZS8\\AppData\\Roaming\\nltk_data...\n"
     ]
    }
   ],
   "source": [
    "from nltk.corpus import stopwords\n",
    "import nltk\n",
    "nltk.download('stopwords')\n",
    "nltk.download('wordnet')\n",
    "STOP_WORDS = set(stopwords.words('russian'))\n",
    "def remove_stopwords(text):\n",
    "    return ' '.join([word for word in str(text).split() if word not in STOP_WORDS])"
   ]
  },
  {
   "cell_type": "code",
   "execution_count": 87,
   "metadata": {},
   "outputs": [],
   "source": [
    "PUNCT_TO_REMOVE = string.punctuation\n",
    "def remove_punct(text):\n",
    "    return text.translate(str.maketrans('','', PUNCT_TO_REMOVE))"
   ]
  },
  {
   "cell_type": "code",
   "execution_count": 88,
   "metadata": {},
   "outputs": [],
   "source": [
    "train_preprocessed = {'text':[], 'author': []}\n",
    "train_preprocessed = pd.DataFrame(train_preprocessed)\n",
    "\n",
    "for index, row in x_train.iterrows():\n",
    "    new_row = pd.DataFrame({'text': lemmatize_words(remove_stopwords(remove_punct(row['text']))), 'author': y_train[index]}, index = [index])\n",
    "    train_preprocessed = pd.concat([train_preprocessed, new_row]). reset_index(drop = True)\n",
    "    \n",
    "test_preprocessed = {'text':[], 'author': []}\n",
    "test_preprocessed = pd.DataFrame(test_preprocessed)\n",
    "\n",
    "for index, row in x_test.iterrows():\n",
    "    new_row = pd.DataFrame({'text': lemmatize_words(remove_stopwords(remove_punct(row['text']))), 'author': y_test[index]}, index = [index])\n",
    "    test_preprocessed = pd.concat([test_preprocessed, new_row]).reset_index(drop = True)"
   ]
  },
  {
   "cell_type": "code",
   "execution_count": 89,
   "metadata": {},
   "outputs": [],
   "source": [
    "x_train = train_preprocessed.drop(['author'], axis = 1)\n",
    "y_train = train_preprocessed.author\n",
    "x_test = test_preprocessed.drop(['author'], axis = 1)\n",
    "y_test = test_preprocessed.author"
   ]
  },
  {
   "cell_type": "code",
   "execution_count": 90,
   "metadata": {},
   "outputs": [],
   "source": [
    "vectorizer = CountVectorizer()\n",
    "vectorizer.fit(pd.concat([x_test.text,x_train.text], ignore_index= True))\n",
    "X_test = vectorizer.transform(x_test.text)\n",
    "X_train = vectorizer.transform(x_train.text)\n",
    "Y_train = y_train.values\n",
    "Y_test = y_test.values"
   ]
  },
  {
   "cell_type": "code",
   "execution_count": 91,
   "metadata": {},
   "outputs": [
    {
     "name": "stdout",
     "output_type": "stream",
     "text": [
      "Acc score: 0.7204610951008645\n",
      "Report:\n",
      "               precision    recall  f1-score   support\n",
      "\n",
      "      Akunin       0.79      0.87      0.83       106\n",
      "    Bulychev       0.85      0.84      0.85        56\n",
      "      Chehov       0.83      0.52      0.64        29\n",
      "  Dostoevsky       0.00      0.00      0.00        14\n",
      "       Gogol       0.50      0.41      0.45        22\n",
      "        King       0.90      0.62      0.73        60\n",
      "   Pratchett       0.48      0.88      0.62        49\n",
      "      Remark       0.88      0.64      0.74        11\n",
      "\n",
      "    accuracy                           0.72       347\n",
      "   macro avg       0.65      0.60      0.61       347\n",
      "weighted avg       0.73      0.72      0.71       347\n",
      "\n"
     ]
    },
    {
     "name": "stderr",
     "output_type": "stream",
     "text": [
      "c:\\Users\\UAZS8\\Desktop\\PYTHON\\ML\\.venv\\Lib\\site-packages\\sklearn\\linear_model\\_logistic.py:460: ConvergenceWarning: lbfgs failed to converge (status=1):\n",
      "STOP: TOTAL NO. of ITERATIONS REACHED LIMIT.\n",
      "\n",
      "Increase the number of iterations (max_iter) or scale the data as shown in:\n",
      "    https://scikit-learn.org/stable/modules/preprocessing.html\n",
      "Please also refer to the documentation for alternative solver options:\n",
      "    https://scikit-learn.org/stable/modules/linear_model.html#logistic-regression\n",
      "  n_iter_i = _check_optimize_result(\n",
      "c:\\Users\\UAZS8\\Desktop\\PYTHON\\ML\\.venv\\Lib\\site-packages\\sklearn\\metrics\\_classification.py:1469: UndefinedMetricWarning: Precision and F-score are ill-defined and being set to 0.0 in labels with no predicted samples. Use `zero_division` parameter to control this behavior.\n",
      "  _warn_prf(average, modifier, msg_start, len(result))\n",
      "c:\\Users\\UAZS8\\Desktop\\PYTHON\\ML\\.venv\\Lib\\site-packages\\sklearn\\metrics\\_classification.py:1469: UndefinedMetricWarning: Precision and F-score are ill-defined and being set to 0.0 in labels with no predicted samples. Use `zero_division` parameter to control this behavior.\n",
      "  _warn_prf(average, modifier, msg_start, len(result))\n",
      "c:\\Users\\UAZS8\\Desktop\\PYTHON\\ML\\.venv\\Lib\\site-packages\\sklearn\\metrics\\_classification.py:1469: UndefinedMetricWarning: Precision and F-score are ill-defined and being set to 0.0 in labels with no predicted samples. Use `zero_division` parameter to control this behavior.\n",
      "  _warn_prf(average, modifier, msg_start, len(result))\n"
     ]
    }
   ],
   "source": [
    "log_reg = LogisticRegression()\n",
    "log_reg.fit(X_train, Y_train)\n",
    "pred = log_reg.predict(X_test)\n",
    "print(f'Acc score: {accuracy_score(Y_test,pred)}')\n",
    "print('Report:\\n',classification_report(Y_test, pred))"
   ]
  }
 ],
 "metadata": {
  "kernelspec": {
   "display_name": ".venv",
   "language": "python",
   "name": "python3"
  },
  "language_info": {
   "codemirror_mode": {
    "name": "ipython",
    "version": 3
   },
   "file_extension": ".py",
   "mimetype": "text/x-python",
   "name": "python",
   "nbconvert_exporter": "python",
   "pygments_lexer": "ipython3",
   "version": "3.11.6"
  }
 },
 "nbformat": 4,
 "nbformat_minor": 2
}
